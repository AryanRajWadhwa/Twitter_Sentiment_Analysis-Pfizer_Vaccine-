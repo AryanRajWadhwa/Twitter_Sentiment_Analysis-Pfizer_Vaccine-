{
 "cells": [
  {
   "cell_type": "markdown",
   "id": "6bf6beaf",
   "metadata": {},
   "source": [
    "## Import libraries"
   ]
  },
  {
   "cell_type": "code",
   "execution_count": 2,
   "id": "62529f0c",
   "metadata": {},
   "outputs": [],
   "source": [
    "import pandas as pd #basic data operations \n",
    "import numpy as np\n",
    "import re #for using regex functions\n",
    "import seaborn as sns\n",
    "import matplotlib.pyplot as plt # for visualization of data\n",
    "from matplotlib import style   # to set style for the plots\n",
    "style.use('ggplot') # ggplot is used here \n",
    "from textblob import TextBlob  # to process textual data\n",
    "from nltk.tokenize import word_tokenize  # to perform tokenization\n",
    "from nltk.stem import PorterStemmer # to perform stemming \n",
    "from nltk.corpus import stopwords #to remove the stopwords\n",
    "stop_words = set(stopwords.words('english')) #setting stopwords as english\n",
    " #different evaluation model for evaluation\n",
    "import joblib\n",
    "from sklearn.feature_extraction.text import CountVectorizer\n",
    "import numpy as np\n",
    "from scipy.sparse import csr_matrix\n",
    "import warnings\n",
    "warnings.filterwarnings(\"ignore\")"
   ]
  },
  {
   "cell_type": "markdown",
   "id": "175a78c5",
   "metadata": {},
   "source": [
    "## Load saved models"
   ]
  },
  {
   "cell_type": "code",
   "execution_count": 3,
   "id": "ed04e07a",
   "metadata": {},
   "outputs": [],
   "source": [
    "logreg_model = joblib.load('Trained Models_5k/logregr_model.pkl')\n",
    "nb_model = joblib.load('Trained Models_5k/nb_model.pkl')\n",
    "sv_model = joblib.load('Trained Models_5k/svm_model.pkl')\n",
    "kn_model = joblib.load('Trained Models_5k/kn_model.pkl')\n",
    "dtc_model = joblib.load('Trained Models_5k/dtc_model.pkl')\n",
    "rf_model = joblib.load('Trained Models_5k/rf_model.pkl')"
   ]
  },
  {
   "cell_type": "code",
   "execution_count": 81,
   "id": "de0ddc60",
   "metadata": {},
   "outputs": [],
   "source": [
    "X = pd.read_csv('5kDataset-trained.csv')\n",
    "X_copy = X\n"
   ]
  },
  {
   "cell_type": "code",
   "execution_count": 82,
   "id": "67b99cb0",
   "metadata": {},
   "outputs": [
    {
     "data": {
      "text/plain": [
       "dear            0\n",
       "arjun           0\n",
       "kumar           0\n",
       "patidar         0\n",
       "successfully    0\n",
       "               ..\n",
       "rig             0\n",
       "preferred       0\n",
       "filipinos       0\n",
       "visayas         0\n",
       "mindanao        0\n",
       "Name: 0, Length: 11732, dtype: int64"
      ]
     },
     "execution_count": 82,
     "metadata": {},
     "output_type": "execute_result"
    }
   ],
   "source": [
    "X.iloc[0]"
   ]
  },
  {
   "cell_type": "code",
   "execution_count": 83,
   "id": "673d6601",
   "metadata": {},
   "outputs": [
    {
     "data": {
      "text/html": [
       "<div>\n",
       "<style scoped>\n",
       "    .dataframe tbody tr th:only-of-type {\n",
       "        vertical-align: middle;\n",
       "    }\n",
       "\n",
       "    .dataframe tbody tr th {\n",
       "        vertical-align: top;\n",
       "    }\n",
       "\n",
       "    .dataframe thead th {\n",
       "        text-align: right;\n",
       "    }\n",
       "</style>\n",
       "<table border=\"1\" class=\"dataframe\">\n",
       "  <thead>\n",
       "    <tr style=\"text-align: right;\">\n",
       "      <th></th>\n",
       "      <th>dear</th>\n",
       "      <th>arjun</th>\n",
       "      <th>kumar</th>\n",
       "      <th>patidar</th>\n",
       "      <th>successfully</th>\n",
       "      <th>vaccinated</th>\n",
       "      <th>1st</th>\n",
       "      <th>dose</th>\n",
       "      <th>covishield</th>\n",
       "      <th>07062021</th>\n",
       "      <th>...</th>\n",
       "      <th>surgery</th>\n",
       "      <th>004635</th>\n",
       "      <th>saki</th>\n",
       "      <th>southeast</th>\n",
       "      <th>asi</th>\n",
       "      <th>rig</th>\n",
       "      <th>preferred</th>\n",
       "      <th>filipinos</th>\n",
       "      <th>visayas</th>\n",
       "      <th>mindanao</th>\n",
       "    </tr>\n",
       "  </thead>\n",
       "  <tbody>\n",
       "  </tbody>\n",
       "</table>\n",
       "<p>0 rows × 11732 columns</p>\n",
       "</div>"
      ],
      "text/plain": [
       "Empty DataFrame\n",
       "Columns: [dear, arjun, kumar, patidar, successfully, vaccinated, 1st, dose, covishield, 07062021, ani, covaxin, approval, come, covidvaccine, subramanianswamy, bharatbiotech, get, shots, covid19, vaccinessavelives, pfizer, moderna, rasikatm, mybmc, seruminstindia, vikramchandra, thanks, rasika, said, ok, chennai, சனன, vaccine, sputnikv, pincode, 600004, age, group, 18, center, name, kavery, hospitalcovax, priyankapulla, yes, took, covisheild, yesterday, almost, dozen, good, vaccines, across, world, 093959, 400026, 02082021, 31, dose1, breach, candy, hospital, 60, bhulabhai, desai, marg, everyone, needs, listen, vaxxed, motherfuckers, imvaxxedareyou, deltaplus, variant, coronavirus, raised, concerns, around, inidas, health, ministry, far, mai, tomorrows, vaccinationdrive, doses, indira, gandhi, samaj, kalyan, cidco, uphc, day, post, check, arm, sore, af, national, ...]\n",
       "Index: []\n",
       "\n",
       "[0 rows x 11732 columns]"
      ]
     },
     "execution_count": 83,
     "metadata": {},
     "output_type": "execute_result"
    }
   ],
   "source": [
    "X = X.iloc[0] * 0\n",
    "X = pd.DataFrame(X, columns=X_copy.columns)\n",
    "# new_row = pd.DataFrame([[int(0)]*len(X_copy.columns)], columns=X_copy.columns)\n",
    "# X = X.append(new_row, ignore_index=True)\n",
    "X"
   ]
  },
  {
   "cell_type": "markdown",
   "id": "7a0607bc",
   "metadata": {},
   "source": [
    "## Prediction based on user input"
   ]
  },
  {
   "cell_type": "markdown",
   "id": "fc69cbe8",
   "metadata": {},
   "source": [
    "Take user input, and store predicted value by each model in the `res` dataframe.\n",
    "\n",
    "Example input:\n",
    "\n",
    "`\n",
    "For all the women and healthcare providers who have been asking about the safety of the #PfizerBioNTech https://t.co/ow0Pglkwte\n",
    "`\n",
    "\n",
    "`\n",
    "New statistics show that Covid-related deaths have reached an all-time high in the past week, with hospitals across the country struggling to keep up with the influx of patients. Many families are now mourning the loss of loved ones, and healthcare workers continue to work tirelessly in difficult conditions.\n",
    "\n",
    "`\n",
    "\n",
    "`Vaccines have arrived in #AB .  My Mum has been in isolation for 10 days. 18 residents sick.  2 have passed away inâ€¦ https://t.co/7IzvrleXPc`"
   ]
  },
  {
   "cell_type": "code",
   "execution_count": 1,
   "id": "3bbd54c1",
   "metadata": {},
   "outputs": [
    {
     "ename": "NameError",
     "evalue": "name 'pd' is not defined",
     "output_type": "error",
     "traceback": [
      "\u001b[1;31m---------------------------------------------------------------------------\u001b[0m",
      "\u001b[1;31mNameError\u001b[0m                                 Traceback (most recent call last)",
      "\u001b[1;32m~\\AppData\\Local\\Temp/ipykernel_22644/3110494445.py\u001b[0m in \u001b[0;36m<module>\u001b[1;34m\u001b[0m\n\u001b[1;32m----> 1\u001b[1;33m \u001b[0mres\u001b[0m \u001b[1;33m=\u001b[0m \u001b[0mpd\u001b[0m\u001b[1;33m.\u001b[0m\u001b[0mread_csv\u001b[0m\u001b[1;33m(\u001b[0m\u001b[1;34m\"model_results_5k.csv\"\u001b[0m\u001b[1;33m)\u001b[0m\u001b[1;33m\u001b[0m\u001b[1;33m\u001b[0m\u001b[0m\n\u001b[0m\u001b[0;32m      2\u001b[0m \u001b[0muser_input\u001b[0m \u001b[1;33m=\u001b[0m \u001b[0minput\u001b[0m\u001b[1;33m(\u001b[0m\u001b[1;34m\"Enter a tweet: \"\u001b[0m\u001b[1;33m)\u001b[0m\u001b[1;33m\u001b[0m\u001b[1;33m\u001b[0m\u001b[0m\n",
      "\u001b[1;31mNameError\u001b[0m: name 'pd' is not defined"
     ]
    }
   ],
   "source": [
    "res = pd.read_csv(\"model_results_5k.csv\")\n",
    "user_input = input(\"Enter a tweet: \")"
   ]
  },
  {
   "cell_type": "code",
   "execution_count": 48,
   "id": "92d738e7",
   "metadata": {},
   "outputs": [],
   "source": [
    "def data_processing(text):\n",
    "    text = text.lower()  #lowecase conversion\n",
    "    text = re.sub(r\"https\\S+|www\\S+https\\S+\", '',text, flags=re.MULTILINE)  #removal of URL in our tweets\n",
    "    text = re.sub(r'\\@w+|\\#','',text)\n",
    "    text = re.sub(r'[^\\w\\s]','',text)\n",
    "    text_tokens = word_tokenize(text) #removing the stop words\n",
    "    filtered_text = [w for w in text_tokens if not w in stop_words]\n",
    "    return \" \".join(filtered_text)"
   ]
  },
  {
   "cell_type": "code",
   "execution_count": 49,
   "id": "2918518c",
   "metadata": {},
   "outputs": [],
   "source": [
    "user_input = data_processing(user_input) #applying the function processing"
   ]
  },
  {
   "cell_type": "code",
   "execution_count": 50,
   "id": "62b58f07",
   "metadata": {},
   "outputs": [],
   "source": [
    "stemmer = PorterStemmer() #doing porterstemmer on the data\n",
    "def stemming(data):\n",
    "    text = [stemmer.stem(word) for word in data]\n",
    "    return data"
   ]
  },
  {
   "cell_type": "code",
   "execution_count": 51,
   "id": "028e6f46",
   "metadata": {},
   "outputs": [
    {
     "data": {
      "text/plain": [
       "'vaccines arrived ab mum isolation 10 days 18 residents sick 2 passed away inâ'"
      ]
     },
     "execution_count": 51,
     "metadata": {},
     "output_type": "execute_result"
    }
   ],
   "source": [
    "user_input = stemming(user_input)\n",
    "user_input"
   ]
  },
  {
   "cell_type": "code",
   "execution_count": 62,
   "id": "e88f4deb",
   "metadata": {},
   "outputs": [
    {
     "data": {
      "text/plain": [
       "['10',\n",
       " '18',\n",
       " 'ab',\n",
       " 'arrived',\n",
       " 'away',\n",
       " 'days',\n",
       " 'inâ',\n",
       " 'isolation',\n",
       " 'mum',\n",
       " 'passed',\n",
       " 'residents',\n",
       " 'sick',\n",
       " 'vaccines']"
      ]
     },
     "execution_count": 62,
     "metadata": {},
     "output_type": "execute_result"
    }
   ],
   "source": [
    "vect = CountVectorizer()\n",
    "user_cv = vect.fit_transform([user_input])\n",
    "abc = dict(sorted(vect.vocabulary_.items()))\n",
    "feature_names = list(abc.keys())\n",
    "feature_names"
   ]
  },
  {
   "cell_type": "code",
   "execution_count": 63,
   "id": "ae908caa",
   "metadata": {},
   "outputs": [
    {
     "data": {
      "text/html": [
       "<div>\n",
       "<style scoped>\n",
       "    .dataframe tbody tr th:only-of-type {\n",
       "        vertical-align: middle;\n",
       "    }\n",
       "\n",
       "    .dataframe tbody tr th {\n",
       "        vertical-align: top;\n",
       "    }\n",
       "\n",
       "    .dataframe thead th {\n",
       "        text-align: right;\n",
       "    }\n",
       "</style>\n",
       "<table border=\"1\" class=\"dataframe\">\n",
       "  <thead>\n",
       "    <tr style=\"text-align: right;\">\n",
       "      <th></th>\n",
       "      <th>10</th>\n",
       "      <th>18</th>\n",
       "      <th>ab</th>\n",
       "      <th>arrived</th>\n",
       "      <th>away</th>\n",
       "      <th>days</th>\n",
       "      <th>inâ</th>\n",
       "      <th>isolation</th>\n",
       "      <th>mum</th>\n",
       "      <th>passed</th>\n",
       "      <th>residents</th>\n",
       "      <th>sick</th>\n",
       "      <th>vaccines</th>\n",
       "    </tr>\n",
       "  </thead>\n",
       "  <tbody>\n",
       "    <tr>\n",
       "      <th>0</th>\n",
       "      <td>1</td>\n",
       "      <td>1</td>\n",
       "      <td>1</td>\n",
       "      <td>1</td>\n",
       "      <td>1</td>\n",
       "      <td>1</td>\n",
       "      <td>1</td>\n",
       "      <td>1</td>\n",
       "      <td>1</td>\n",
       "      <td>1</td>\n",
       "      <td>1</td>\n",
       "      <td>1</td>\n",
       "      <td>1</td>\n",
       "    </tr>\n",
       "  </tbody>\n",
       "</table>\n",
       "</div>"
      ],
      "text/plain": [
       "   10  18  ab  arrived  away  days  inâ  isolation  mum  passed  residents  \\\n",
       "0   1   1   1        1     1     1    1          1    1       1          1   \n",
       "\n",
       "   sick  vaccines  \n",
       "0     1         1  "
      ]
     },
     "execution_count": 63,
     "metadata": {},
     "output_type": "execute_result"
    }
   ],
   "source": [
    "user_df = pd.DataFrame(user_cv.toarray(), columns=feature_names)\n",
    "user_df"
   ]
  },
  {
   "cell_type": "markdown",
   "id": "6984f0ee",
   "metadata": {},
   "source": [
    "# Verification"
   ]
  },
  {
   "cell_type": "code",
   "execution_count": 64,
   "id": "6de324be",
   "metadata": {},
   "outputs": [],
   "source": [
    "def polarity(text):   # function to calculate the text polarity in our data using textblob\n",
    "    return TextBlob(text).sentiment.polarity"
   ]
  },
  {
   "cell_type": "code",
   "execution_count": 65,
   "id": "29c05169",
   "metadata": {},
   "outputs": [
    {
     "data": {
      "text/plain": [
       "-0.7142857142857143"
      ]
     },
     "execution_count": 65,
     "metadata": {},
     "output_type": "execute_result"
    }
   ],
   "source": [
    "polarity(user_input)"
   ]
  },
  {
   "cell_type": "code",
   "execution_count": 66,
   "id": "3155ef3c",
   "metadata": {},
   "outputs": [
    {
     "data": {
      "text/plain": [
       "array([[0, 0, 0, ..., 0, 0, 0]], dtype=object)"
      ]
     },
     "execution_count": 66,
     "metadata": {},
     "output_type": "execute_result"
    }
   ],
   "source": [
    "X.values"
   ]
  },
  {
   "cell_type": "code",
   "execution_count": 84,
   "id": "63c406ad",
   "metadata": {},
   "outputs": [
    {
     "data": {
      "text/plain": [
       "<1x11732 sparse matrix of type '<class 'numpy.int64'>'\n",
       "\twith 11 stored elements in Compressed Sparse Row format>"
      ]
     },
     "execution_count": 84,
     "metadata": {},
     "output_type": "execute_result"
    }
   ],
   "source": [
    "# Get the column names of X and user_df\n",
    "X_columns = X.columns\n",
    "user_columns = user_df.columns\n",
    "\n",
    "for column in user_columns:\n",
    "    X.loc[0, column] = 0\n",
    "    X.fillna(0, inplace=True)\n",
    "    \n",
    "    if column not in X_columns:\n",
    "        user_df = user_df.drop(column, axis=1)\n",
    "    else:\n",
    "        X[column] = user_df[column].values\n",
    "        \n",
    "user_sparse = csr_matrix(X.values) #training same as testing\n",
    "user_sparse"
   ]
  },
  {
   "cell_type": "markdown",
   "id": "fcd60746",
   "metadata": {},
   "source": [
    "### sv_model.predict(user_in)"
   ]
  },
  {
   "cell_type": "code",
   "execution_count": 85,
   "id": "d14e4f3b",
   "metadata": {
    "scrolled": false
   },
   "outputs": [
    {
     "data": {
      "text/html": [
       "<div>\n",
       "<style scoped>\n",
       "    .dataframe tbody tr th:only-of-type {\n",
       "        vertical-align: middle;\n",
       "    }\n",
       "\n",
       "    .dataframe tbody tr th {\n",
       "        vertical-align: top;\n",
       "    }\n",
       "\n",
       "    .dataframe thead th {\n",
       "        text-align: right;\n",
       "    }\n",
       "</style>\n",
       "<table border=\"1\" class=\"dataframe\">\n",
       "  <thead>\n",
       "    <tr style=\"text-align: right;\">\n",
       "      <th></th>\n",
       "      <th>models</th>\n",
       "      <th>accuracy</th>\n",
       "      <th>predicted</th>\n",
       "    </tr>\n",
       "  </thead>\n",
       "  <tbody>\n",
       "    <tr>\n",
       "      <th>0</th>\n",
       "      <td>SVM</td>\n",
       "      <td>87.0</td>\n",
       "      <td>Neutral</td>\n",
       "    </tr>\n",
       "    <tr>\n",
       "      <th>1</th>\n",
       "      <td>Decision Tree</td>\n",
       "      <td>85.7</td>\n",
       "      <td>Negative</td>\n",
       "    </tr>\n",
       "    <tr>\n",
       "      <th>2</th>\n",
       "      <td>Random Forest</td>\n",
       "      <td>85.3</td>\n",
       "      <td>Neutral</td>\n",
       "    </tr>\n",
       "    <tr>\n",
       "      <th>3</th>\n",
       "      <td>Logistic Regression</td>\n",
       "      <td>84.0</td>\n",
       "      <td>Neutral</td>\n",
       "    </tr>\n",
       "    <tr>\n",
       "      <th>4</th>\n",
       "      <td>Naive Bayes</td>\n",
       "      <td>68.5</td>\n",
       "      <td>Neutral</td>\n",
       "    </tr>\n",
       "    <tr>\n",
       "      <th>5</th>\n",
       "      <td>KNN</td>\n",
       "      <td>67.5</td>\n",
       "      <td>Neutral</td>\n",
       "    </tr>\n",
       "  </tbody>\n",
       "</table>\n",
       "</div>"
      ],
      "text/plain": [
       "                models  accuracy predicted\n",
       "0                  SVM      87.0   Neutral\n",
       "1        Decision Tree      85.7  Negative\n",
       "2        Random Forest      85.3   Neutral\n",
       "3  Logistic Regression      84.0   Neutral\n",
       "4          Naive Bayes      68.5   Neutral\n",
       "5                  KNN      67.5   Neutral"
      ]
     },
     "execution_count": 85,
     "metadata": {},
     "output_type": "execute_result"
    }
   ],
   "source": [
    "res[\"predicted\"] = [sv_model.predict(user_sparse)[0], nb_model.predict(user_sparse)[0], logreg_model.predict(user_sparse)[0], kn_model.predict(user_sparse)[0], dtc_model.predict(user_sparse)[0], rf_model.predict(user_sparse)[0]]\n",
    "res"
   ]
  },
  {
   "cell_type": "code",
   "execution_count": null,
   "id": "a349fa77",
   "metadata": {},
   "outputs": [],
   "source": []
  },
  {
   "cell_type": "code",
   "execution_count": null,
   "id": "837baaa3",
   "metadata": {},
   "outputs": [],
   "source": []
  }
 ],
 "metadata": {
  "kernelspec": {
   "display_name": "Python 3 (ipykernel)",
   "language": "python",
   "name": "python3"
  },
  "language_info": {
   "codemirror_mode": {
    "name": "ipython",
    "version": 3
   },
   "file_extension": ".py",
   "mimetype": "text/x-python",
   "name": "python",
   "nbconvert_exporter": "python",
   "pygments_lexer": "ipython3",
   "version": "3.9.7"
  }
 },
 "nbformat": 4,
 "nbformat_minor": 5
}
