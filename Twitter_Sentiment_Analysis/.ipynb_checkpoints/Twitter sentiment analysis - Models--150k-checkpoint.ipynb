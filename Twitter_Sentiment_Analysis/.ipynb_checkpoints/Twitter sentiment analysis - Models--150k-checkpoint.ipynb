{
 "cells": [
  {
   "cell_type": "markdown",
   "id": "b74c69ae",
   "metadata": {},
   "source": [
    "### Importing Libraries"
   ]
  },
  {
   "cell_type": "code",
   "execution_count": 1,
   "id": "b485c7f3",
   "metadata": {},
   "outputs": [],
   "source": [
    "import pandas as pd #basic data operations \n",
    "import numpy as np\n",
    "import re #for using regex functions\n",
    "import seaborn as sns\n",
    "import matplotlib.pyplot as plt # for visualization of data\n",
    "from matplotlib import style   # to set style for the plots\n",
    "style.use('ggplot') # ggplot is used here \n",
    "from sklearn.feature_extraction.text import CountVectorizer #to vectorize the text document\n",
    "from sklearn.model_selection import train_test_split #to train the texting data\n",
    "from sklearn.linear_model import LogisticRegression #to perform logistic regression on the data\n",
    "\n",
    "from sklearn.metrics import accuracy_score, classification_report, confusion_matrix, ConfusionMatrixDisplay  #different evaluation model for evaluation\n",
    "from sklearn.naive_bayes import MultinomialNB\n",
    "from sklearn.svm import LinearSVC\n",
    "from sklearn.neighbors import KNeighborsClassifier\n",
    "from sklearn.tree import DecisionTreeClassifier\n",
    "from sklearn.ensemble import RandomForestClassifier\n",
    "\n",
    "\n",
    "import warnings\n",
    "warnings.filterwarnings(\"ignore\")"
   ]
  },
  {
   "cell_type": "code",
   "execution_count": 2,
   "id": "7df571f4",
   "metadata": {},
   "outputs": [],
   "source": [
    "text_df = pd.read_csv('TSA-Preprocessing-dropped.csv')  #to load the data\n",
    "text_df = text_df.sample(n=150000,replace=False)"
   ]
  },
  {
   "cell_type": "code",
   "execution_count": 3,
   "id": "4a4ce8f5",
   "metadata": {},
   "outputs": [
    {
     "data": {
      "text/html": [
       "<div>\n",
       "<style scoped>\n",
       "    .dataframe tbody tr th:only-of-type {\n",
       "        vertical-align: middle;\n",
       "    }\n",
       "\n",
       "    .dataframe tbody tr th {\n",
       "        vertical-align: top;\n",
       "    }\n",
       "\n",
       "    .dataframe thead th {\n",
       "        text-align: right;\n",
       "    }\n",
       "</style>\n",
       "<table border=\"1\" class=\"dataframe\">\n",
       "  <thead>\n",
       "    <tr style=\"text-align: right;\">\n",
       "      <th></th>\n",
       "      <th>text</th>\n",
       "      <th>polarity</th>\n",
       "      <th>sentiment</th>\n",
       "    </tr>\n",
       "  </thead>\n",
       "  <tbody>\n",
       "    <tr>\n",
       "      <th>40256</th>\n",
       "      <td>sri lanka receives 600000 doses chinas sinopha...</td>\n",
       "      <td>0.000</td>\n",
       "      <td>Neutral</td>\n",
       "    </tr>\n",
       "    <tr>\n",
       "      <th>90880</th>\n",
       "      <td>ready projectany nurses want volunteer time va...</td>\n",
       "      <td>0.200</td>\n",
       "      <td>Positive</td>\n",
       "    </tr>\n",
       "    <tr>\n",
       "      <th>67793</th>\n",
       "      <td>moderna contains sm102 injecting alec_zeck vac...</td>\n",
       "      <td>0.000</td>\n",
       "      <td>Neutral</td>\n",
       "    </tr>\n",
       "    <tr>\n",
       "      <th>26240</th>\n",
       "      <td>2nd dose covaxin successful 13032021 1128 vacc...</td>\n",
       "      <td>0.375</td>\n",
       "      <td>Positive</td>\n",
       "    </tr>\n",
       "    <tr>\n",
       "      <th>98342</th>\n",
       "      <td>560011 age 45 87d1 41d2 slots covaxin 17062021...</td>\n",
       "      <td>0.000</td>\n",
       "      <td>Neutral</td>\n",
       "    </tr>\n",
       "  </tbody>\n",
       "</table>\n",
       "</div>"
      ],
      "text/plain": [
       "                                                    text  polarity sentiment\n",
       "40256  sri lanka receives 600000 doses chinas sinopha...     0.000   Neutral\n",
       "90880  ready projectany nurses want volunteer time va...     0.200  Positive\n",
       "67793  moderna contains sm102 injecting alec_zeck vac...     0.000   Neutral\n",
       "26240  2nd dose covaxin successful 13032021 1128 vacc...     0.375  Positive\n",
       "98342  560011 age 45 87d1 41d2 slots covaxin 17062021...     0.000   Neutral"
      ]
     },
     "execution_count": 3,
     "metadata": {},
     "output_type": "execute_result"
    }
   ],
   "source": [
    "text_df.head() "
   ]
  },
  {
   "cell_type": "code",
   "execution_count": 4,
   "id": "3477b0eb",
   "metadata": {},
   "outputs": [
    {
     "data": {
      "text/html": [
       "<div>\n",
       "<style scoped>\n",
       "    .dataframe tbody tr th:only-of-type {\n",
       "        vertical-align: middle;\n",
       "    }\n",
       "\n",
       "    .dataframe tbody tr th {\n",
       "        vertical-align: top;\n",
       "    }\n",
       "\n",
       "    .dataframe thead th {\n",
       "        text-align: right;\n",
       "    }\n",
       "</style>\n",
       "<table border=\"1\" class=\"dataframe\">\n",
       "  <thead>\n",
       "    <tr style=\"text-align: right;\">\n",
       "      <th></th>\n",
       "      <th>text</th>\n",
       "      <th>polarity</th>\n",
       "      <th>sentiment</th>\n",
       "    </tr>\n",
       "  </thead>\n",
       "  <tbody>\n",
       "    <tr>\n",
       "      <th>40256</th>\n",
       "      <td>sri lanka receives 600000 doses chinas sinopha...</td>\n",
       "      <td>0.000</td>\n",
       "      <td>Neutral</td>\n",
       "    </tr>\n",
       "    <tr>\n",
       "      <th>90880</th>\n",
       "      <td>ready projectany nurses want volunteer time va...</td>\n",
       "      <td>0.200</td>\n",
       "      <td>Positive</td>\n",
       "    </tr>\n",
       "    <tr>\n",
       "      <th>67793</th>\n",
       "      <td>moderna contains sm102 injecting alec_zeck vac...</td>\n",
       "      <td>0.000</td>\n",
       "      <td>Neutral</td>\n",
       "    </tr>\n",
       "    <tr>\n",
       "      <th>26240</th>\n",
       "      <td>2nd dose covaxin successful 13032021 1128 vacc...</td>\n",
       "      <td>0.375</td>\n",
       "      <td>Positive</td>\n",
       "    </tr>\n",
       "    <tr>\n",
       "      <th>98342</th>\n",
       "      <td>560011 age 45 87d1 41d2 slots covaxin 17062021...</td>\n",
       "      <td>0.000</td>\n",
       "      <td>Neutral</td>\n",
       "    </tr>\n",
       "    <tr>\n",
       "      <th>...</th>\n",
       "      <td>...</td>\n",
       "      <td>...</td>\n",
       "      <td>...</td>\n",
       "    </tr>\n",
       "    <tr>\n",
       "      <th>190547</th>\n",
       "      <td>_s_e_n_pai heisenb02141658 kanodia_pooja yes a...</td>\n",
       "      <td>0.450</td>\n",
       "      <td>Positive</td>\n",
       "    </tr>\n",
       "    <tr>\n",
       "      <th>151001</th>\n",
       "      <td>pincode 560100 covaxin dose 1 50 slots age 18 ...</td>\n",
       "      <td>0.000</td>\n",
       "      <td>Neutral</td>\n",
       "    </tr>\n",
       "    <tr>\n",
       "      <th>56454</th>\n",
       "      <td>covaxin mgmhealthcare hoping temporary issue c...</td>\n",
       "      <td>0.000</td>\n",
       "      <td>Neutral</td>\n",
       "    </tr>\n",
       "    <tr>\n",
       "      <th>55983</th>\n",
       "      <td>sorry second shot moderna</td>\n",
       "      <td>-0.250</td>\n",
       "      <td>Negative</td>\n",
       "    </tr>\n",
       "    <tr>\n",
       "      <th>46456</th>\n",
       "      <td>kdzwierzynski nice got moderna one</td>\n",
       "      <td>0.600</td>\n",
       "      <td>Positive</td>\n",
       "    </tr>\n",
       "  </tbody>\n",
       "</table>\n",
       "<p>50000 rows × 3 columns</p>\n",
       "</div>"
      ],
      "text/plain": [
       "                                                     text  polarity sentiment\n",
       "40256   sri lanka receives 600000 doses chinas sinopha...     0.000   Neutral\n",
       "90880   ready projectany nurses want volunteer time va...     0.200  Positive\n",
       "67793   moderna contains sm102 injecting alec_zeck vac...     0.000   Neutral\n",
       "26240   2nd dose covaxin successful 13032021 1128 vacc...     0.375  Positive\n",
       "98342   560011 age 45 87d1 41d2 slots covaxin 17062021...     0.000   Neutral\n",
       "...                                                   ...       ...       ...\n",
       "190547  _s_e_n_pai heisenb02141658 kanodia_pooja yes a...     0.450  Positive\n",
       "151001  pincode 560100 covaxin dose 1 50 slots age 18 ...     0.000   Neutral\n",
       "56454   covaxin mgmhealthcare hoping temporary issue c...     0.000   Neutral\n",
       "55983                           sorry second shot moderna    -0.250  Negative\n",
       "46456                  kdzwierzynski nice got moderna one     0.600  Positive\n",
       "\n",
       "[50000 rows x 3 columns]"
      ]
     },
     "execution_count": 4,
     "metadata": {},
     "output_type": "execute_result"
    }
   ],
   "source": [
    "text_df"
   ]
  },
  {
   "cell_type": "markdown",
   "id": "c38fad39",
   "metadata": {},
   "source": [
    "### Count-Vectorization \n"
   ]
  },
  {
   "cell_type": "code",
   "execution_count": 5,
   "id": "e76a7555",
   "metadata": {},
   "outputs": [],
   "source": [
    "vect = CountVectorizer().fit(text_df['text'])"
   ]
  },
  {
   "cell_type": "markdown",
   "id": "a3f7c4a3",
   "metadata": {},
   "source": [
    "### Creating the Unigram Model"
   ]
  },
  {
   "cell_type": "code",
   "execution_count": 6,
   "id": "d701d313",
   "metadata": {},
   "outputs": [],
   "source": [
    "X = text_df['text']\n",
    "Y = text_df['sentiment']\n",
    "X = vect.transform(X)"
   ]
  },
  {
   "cell_type": "code",
   "execution_count": 7,
   "id": "bb2f1ee3",
   "metadata": {},
   "outputs": [],
   "source": [
    "x_train, x_test, y_train, y_test = train_test_split(X, Y, test_size=0.2, random_state=42)"
   ]
  },
  {
   "cell_type": "code",
   "execution_count": 8,
   "id": "7c1d81f7",
   "metadata": {},
   "outputs": [
    {
     "name": "stdout",
     "output_type": "stream",
     "text": [
      "Size of x_train: (40000, 288198)\n",
      "Size of y_train: (40000,)\n",
      "Size of x_test: (10000, 288198)\n",
      "Size of y_test: (10000,)\n"
     ]
    }
   ],
   "source": [
    "print(\"Size of x_train:\", (x_train.shape))\n",
    "print(\"Size of y_train:\", (y_train.shape))\n",
    "print(\"Size of x_test:\", (x_test.shape))\n",
    "print(\"Size of y_test:\", (y_test.shape))"
   ]
  },
  {
   "cell_type": "markdown",
   "id": "682c6ec5",
   "metadata": {},
   "source": [
    "# Applying Models"
   ]
  },
  {
   "cell_type": "markdown",
   "id": "3a5a8ab7",
   "metadata": {},
   "source": [
    "# Logistic Regression"
   ]
  },
  {
   "cell_type": "code",
   "execution_count": 9,
   "id": "7b65b2aa",
   "metadata": {},
   "outputs": [
    {
     "name": "stdout",
     "output_type": "stream",
     "text": [
      "Test accuracy: 93.04%\n"
     ]
    }
   ],
   "source": [
    "logreg = LogisticRegression()\n",
    "logreg_model = logreg.fit(x_train, y_train)\n",
    "logreg_pred = logreg_model.predict(x_test)\n",
    "logreg_acc = accuracy_score(logreg_pred, y_test)\n",
    "print(\"Test accuracy: {:.2f}%\".format(logreg_acc*100))"
   ]
  },
  {
   "cell_type": "code",
   "execution_count": 10,
   "id": "3e40e8f6",
   "metadata": {
    "scrolled": true
   },
   "outputs": [
    {
     "name": "stdout",
     "output_type": "stream",
     "text": [
      "[[ 623  273   85]\n",
      " [   7 5601   11]\n",
      " [  35  285 3080]]\n",
      "\n",
      "\n",
      "              precision    recall  f1-score   support\n",
      "\n",
      "    Negative       0.94      0.64      0.76       981\n",
      "     Neutral       0.91      1.00      0.95      5619\n",
      "    Positive       0.97      0.91      0.94      3400\n",
      "\n",
      "    accuracy                           0.93     10000\n",
      "   macro avg       0.94      0.85      0.88     10000\n",
      "weighted avg       0.93      0.93      0.93     10000\n",
      "\n"
     ]
    }
   ],
   "source": [
    "print(confusion_matrix(y_test, logreg_pred))\n",
    "print(\"\\n\")\n",
    "print(classification_report(y_test, logreg_pred))"
   ]
  },
  {
   "cell_type": "code",
   "execution_count": 11,
   "id": "52c7a9b9",
   "metadata": {
    "scrolled": false
   },
   "outputs": [
    {
     "data": {
      "text/plain": [
       "<sklearn.metrics._plot.confusion_matrix.ConfusionMatrixDisplay at 0x1ac2765e130>"
      ]
     },
     "execution_count": 11,
     "metadata": {},
     "output_type": "execute_result"
    },
    {
     "data": {
      "image/png": "[encoded data removed]",
      "text/plain": [
       "<Figure size 640x480 with 2 Axes>"
      ]
     },
     "metadata": {},
     "output_type": "display_data"
    }
   ],
   "source": [
    "style.use('classic')\n",
    "cm = confusion_matrix(y_test, logreg_pred, labels=logreg.classes_)\n",
    "disp = ConfusionMatrixDisplay(confusion_matrix = cm, display_labels=logreg.classes_)\n",
    "disp.plot()"
   ]
  },
  {
   "cell_type": "markdown",
   "id": "adb06c16",
   "metadata": {},
   "source": [
    "# Naive Bayes"
   ]
  },
  {
   "cell_type": "code",
   "execution_count": 12,
   "id": "4431351d",
   "metadata": {},
   "outputs": [
    {
     "name": "stdout",
     "output_type": "stream",
     "text": [
      "Test Accuracy:  75.65 \b%\n",
      "\n",
      "\n",
      "[[ 421  130  430]\n",
      " [ 296 3946 1377]\n",
      " [  83  119 3198]]\n",
      "\n",
      "\n",
      "Classification Report:\n",
      "\n",
      "               precision    recall  f1-score   support\n",
      "\n",
      "    Negative       0.53      0.43      0.47       981\n",
      "     Neutral       0.94      0.70      0.80      5619\n",
      "    Positive       0.64      0.94      0.76      3400\n",
      "\n",
      "    accuracy                           0.76     10000\n",
      "   macro avg       0.70      0.69      0.68     10000\n",
      "weighted avg       0.80      0.76      0.76     10000\n",
      "\n"
     ]
    }
   ],
   "source": [
    "nb = MultinomialNB(alpha=1.0,fit_prior=True,class_prior=None)\n",
    "\n",
    "nb_model = nb.fit(x_train, y_train)\n",
    "\n",
    "nb_pred = nb_model.predict(x_test)\n",
    "\n",
    "print(\"Test Accuracy: \", round(accuracy_score(y_test, nb_pred)*100,2), \"\\b%\")\n",
    "print(\"\\n\")\n",
    "print(confusion_matrix(y_test, nb_pred))\n",
    "print(\"\\n\")\n",
    "print(\"Classification Report:\\n\\n\", classification_report(y_test, nb_pred))"
   ]
  },
  {
   "cell_type": "code",
   "execution_count": 13,
   "id": "d392c7ce",
   "metadata": {},
   "outputs": [
    {
     "data": {
      "text/plain": [
       "<sklearn.metrics._plot.confusion_matrix.ConfusionMatrixDisplay at 0x1ac2f868be0>"
      ]
     },
     "execution_count": 13,
     "metadata": {},
     "output_type": "execute_result"
    },
    {
     "data": {
      "image/png": "[encoded data removed]",
      "text/plain": [
       "<Figure size 640x480 with 2 Axes>"
      ]
     },
     "metadata": {},
     "output_type": "display_data"
    }
   ],
   "source": [
    "style.use('classic')\n",
    "cm = confusion_matrix(y_test, nb_pred, labels=nb.classes_)\n",
    "disp = ConfusionMatrixDisplay(confusion_matrix = cm, display_labels=nb.classes_)\n",
    "disp.plot()"
   ]
  },
  {
   "cell_type": "markdown",
   "id": "2bbacae5",
   "metadata": {},
   "source": [
    "# SVM"
   ]
  },
  {
   "cell_type": "code",
   "execution_count": 14,
   "id": "310da597",
   "metadata": {},
   "outputs": [
    {
     "name": "stdout",
     "output_type": "stream",
     "text": [
      "Test Accuracy: 95.19%\n",
      "\n",
      "\n",
      "[[ 732  172   77]\n",
      " [   4 5601   14]\n",
      " [  32  182 3186]]\n",
      "\n",
      "\n",
      "Classification Report:\n",
      "\n",
      "               precision    recall  f1-score   support\n",
      "\n",
      "    Negative       0.95      0.75      0.84       981\n",
      "     Neutral       0.94      1.00      0.97      5619\n",
      "    Positive       0.97      0.94      0.95      3400\n",
      "\n",
      "    accuracy                           0.95     10000\n",
      "   macro avg       0.96      0.89      0.92     10000\n",
      "weighted avg       0.95      0.95      0.95     10000\n",
      "\n"
     ]
    }
   ],
   "source": [
    "# Train an SVM classifier on the training set\n",
    "clf = LinearSVC()\n",
    "sv_model = clf.fit(x_train, y_train)\n",
    "\n",
    "# Evaluate the model's performance on the testing set\n",
    "sv_pred = sv_model.predict(x_test)\n",
    "print(\"Test Accuracy:\", round(accuracy_score(y_test, sv_pred)*100,2), \"\\b%\")\n",
    "print(\"\\n\")\n",
    "print(confusion_matrix(y_test, sv_pred))\n",
    "print(\"\\n\")\n",
    "print(\"Classification Report:\\n\\n\", classification_report(y_test, sv_pred))"
   ]
  },
  {
   "cell_type": "code",
   "execution_count": 15,
   "id": "843a5cd2",
   "metadata": {},
   "outputs": [
    {
     "data": {
      "text/plain": [
       "<sklearn.metrics._plot.confusion_matrix.ConfusionMatrixDisplay at 0x1ac316050d0>"
      ]
     },
     "execution_count": 15,
     "metadata": {},
     "output_type": "execute_result"
    },
    {
     "data": {
      "image/png": "[encoded data removed]",
      "text/plain": [
       "<Figure size 640x480 with 2 Axes>"
      ]
     },
     "metadata": {},
     "output_type": "display_data"
    }
   ],
   "source": [
    "style.use('classic')\n",
    "cm = confusion_matrix(y_test, sv_pred, labels=clf.classes_)\n",
    "disp = ConfusionMatrixDisplay(confusion_matrix = cm, display_labels=clf.classes_)\n",
    "disp.plot()"
   ]
  },
  {
   "cell_type": "markdown",
   "id": "c16fa2a1",
   "metadata": {},
   "source": [
    "# KNN"
   ]
  },
  {
   "cell_type": "code",
   "execution_count": 16,
   "id": "64c7c05c",
   "metadata": {},
   "outputs": [
    {
     "name": "stdout",
     "output_type": "stream",
     "text": [
      "Test Accuracy:  65.5 \b%\n",
      "\n",
      "\n",
      "[[ 123  847   11]\n",
      " [  12 5586   21]\n",
      " [  18 2541  841]]\n",
      "\n",
      "\n",
      "Classification Report:\n",
      "\n",
      "               precision    recall  f1-score   support\n",
      "\n",
      "    Negative       0.80      0.13      0.22       981\n",
      "     Neutral       0.62      0.99      0.77      5619\n",
      "    Positive       0.96      0.25      0.39      3400\n",
      "\n",
      "    accuracy                           0.66     10000\n",
      "   macro avg       0.80      0.46      0.46     10000\n",
      "weighted avg       0.76      0.66      0.59     10000\n",
      "\n"
     ]
    }
   ],
   "source": [
    "kn = KNeighborsClassifier(n_neighbors=3)\n",
    "\n",
    "kn_model = kn.fit(x_train, y_train)\n",
    "\n",
    "kn_pred = kn_model.predict(x_test)\n",
    "\n",
    "print(\"Test Accuracy: \", round(accuracy_score(y_test, kn_pred)*100,2), \"\\b%\")\n",
    "print(\"\\n\")\n",
    "print(confusion_matrix(y_test, kn_pred))\n",
    "print(\"\\n\")\n",
    "print(\"Classification Report:\\n\\n\", classification_report(y_test, kn_pred,))"
   ]
  },
  {
   "cell_type": "code",
   "execution_count": 17,
   "id": "d6e42159",
   "metadata": {},
   "outputs": [
    {
     "data": {
      "text/plain": [
       "<sklearn.metrics._plot.confusion_matrix.ConfusionMatrixDisplay at 0x1ac2860bd90>"
      ]
     },
     "execution_count": 17,
     "metadata": {},
     "output_type": "execute_result"
    },
    {
     "data": {
      "image/png": "[encoded data removed]",
      "text/plain": [
       "<Figure size 640x480 with 2 Axes>"
      ]
     },
     "metadata": {},
     "output_type": "display_data"
    }
   ],
   "source": [
    "style.use('classic')\n",
    "cm = confusion_matrix(y_test, kn_pred, labels=kn.classes_)\n",
    "disp = ConfusionMatrixDisplay(confusion_matrix = cm, display_labels=kn.classes_)\n",
    "disp.plot()"
   ]
  },
  {
   "cell_type": "markdown",
   "id": "7bfd9080",
   "metadata": {},
   "source": [
    "# Decision Tree"
   ]
  },
  {
   "cell_type": "code",
   "execution_count": null,
   "id": "0da50d41",
   "metadata": {},
   "outputs": [],
   "source": [
    "dtc = DecisionTreeClassifier(criterion= 'entropy',max_depth = 1000, splitter='best', random_state=100)\n",
    "dtc_model = dtc.fit(x_train, y_train)\n",
    "\n",
    "dtc_pred = dtc_model.predict(x_test)\n",
    "\n",
    "print(\"Test Accuracy: \", round(accuracy_score(y_test, dtc_pred)*100,2), \"\\b%\")\n",
    "print(\"\\n\")\n",
    "print(confusion_matrix(y_test, dtc_pred))\n",
    "print(\"\\n\")\n",
    "print(\"Classification Report:\\n\\n\", classification_report(y_test, dtc_pred))"
   ]
  },
  {
   "cell_type": "code",
   "execution_count": null,
   "id": "fb96f105",
   "metadata": {},
   "outputs": [],
   "source": [
    "style.use('classic')\n",
    "cm = confusion_matrix(y_test, dtc_pred, labels=dtc.classes_)\n",
    "disp = ConfusionMatrixDisplay(confusion_matrix = cm, display_labels=dtc.classes_)\n",
    "disp.plot()"
   ]
  },
  {
   "cell_type": "markdown",
   "id": "cbdc7cef",
   "metadata": {},
   "source": [
    "# RF"
   ]
  },
  {
   "cell_type": "code",
   "execution_count": null,
   "id": "1a82e269",
   "metadata": {},
   "outputs": [],
   "source": [
    "rf = RandomForestClassifier(max_depth = 2000, random_state=42,n_estimators=100,criterion=\"entropy\")\n",
    "\n",
    "# Train the model on the training set\n",
    "rf_model = rf.fit(x_train, y_train)"
   ]
  },
  {
   "cell_type": "code",
   "execution_count": null,
   "id": "404d268c",
   "metadata": {},
   "outputs": [],
   "source": [
    "# Make predictions on the test set\n",
    "rf_pred = rf.predict(x_test)\n",
    "\n",
    "print(\"Test accuracy:\", round(accuracy_score(y_test, rf_pred)*100,2), \"\\b%\")\n",
    "print(\"\\n\")\n",
    "print(confusion_matrix(y_test, rf_pred))\n",
    "print(\"\\n\")\n",
    "print(\"Classification Report:\\n\\n\", classification_report(y_test, rf_pred))"
   ]
  },
  {
   "cell_type": "code",
   "execution_count": null,
   "id": "9c505268",
   "metadata": {
    "scrolled": true
   },
   "outputs": [],
   "source": [
    "style.use('classic')\n",
    "cm = confusion_matrix(y_test, rf_pred, labels=rf.classes_)\n",
    "disp = ConfusionMatrixDisplay(confusion_matrix = cm, display_labels=rf.classes_)\n",
    "disp.plot()"
   ]
  },
  {
   "cell_type": "markdown",
   "id": "7663ec2b",
   "metadata": {},
   "source": [
    "#  Store the model names and their accuracy in a dataframe"
   ]
  },
  {
   "cell_type": "code",
   "execution_count": null,
   "id": "97bea330",
   "metadata": {},
   "outputs": [],
   "source": [
    "res = []\n",
    "res = pd.DataFrame(res)\n",
    "res[\"models\"] = [\"Logistic Regression\", \"Naive Bayes\",\"SVM\",  \"KNN\", \"Decision Tree\", \"Random Forest\"]\n",
    "res[\"accuracy\"] = [ round(accuracy_score(y_test, logreg_pred)*100,2),round(accuracy_score(y_test, nb_pred)*100,2),round(accuracy_score(y_test, sv_pred)*100,2), round(accuracy_score(y_test, kn_pred)*100,2), round(accuracy_score(y_test, dtc_pred)*100,2), round(accuracy_score(y_test, rf_pred)*100,2)]\n",
    "res = res.sort_values(\"accuracy\", ascending=False).reset_index(drop=True)\n",
    "res.to_csv('model_results_150k.csv', index=False)\n",
    "res"
   ]
  },
  {
   "cell_type": "markdown",
   "id": "6495964b",
   "metadata": {},
   "source": [
    "#  Save the traied models locally"
   ]
  },
  {
   "cell_type": "code",
   "execution_count": null,
   "id": "3c0f7e7d",
   "metadata": {},
   "outputs": [],
   "source": [
    "import joblib\n",
    "\n",
    "joblib.dump(logreg_model, 'Trained Models_150k/logregr_model.pkl')\n",
    "joblib.dump(nb_model, 'Trained Models_150k/nb_model.pkl')\n",
    "joblib.dump(sv_model, 'Trained Models_150k/svm_model.pkl')\n",
    "joblib.dump(kn_model, 'Trained Models_150k/kn_model.pkl')\n",
    "joblib.dump(dtc_model, 'Trained Models_150k/dtc_model.pkl')\n",
    "joblib.dump(rf_model, 'Trained Models_150k/rf_model.pkl')"
   ]
  },
  {
   "cell_type": "code",
   "execution_count": null,
   "id": "0f451260",
   "metadata": {},
   "outputs": [],
   "source": []
  }
 ],
 "metadata": {
  "kernelspec": {
   "display_name": "Python 3 (ipykernel)",
   "language": "python",
   "name": "python3"
  },
  "language_info": {
   "codemirror_mode": {
    "name": "ipython",
    "version": 3
   },
   "file_extension": ".py",
   "mimetype": "text/x-python",
   "name": "python",
   "nbconvert_exporter": "python",
   "pygments_lexer": "ipython3",
   "version": "3.9.7"
  }
 },
 "nbformat": 4,
 "nbformat_minor": 5
}
