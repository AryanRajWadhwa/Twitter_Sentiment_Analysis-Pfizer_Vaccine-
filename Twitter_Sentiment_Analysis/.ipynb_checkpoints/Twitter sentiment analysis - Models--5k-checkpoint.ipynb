{
 "cells": [
  {
   "cell_type": "markdown",
   "id": "b74c69ae",
   "metadata": {},
   "source": [
    "### Importing Libraries"
   ]
  },
  {
   "cell_type": "code",
   "execution_count": 1,
   "id": "b485c7f3",
   "metadata": {},
   "outputs": [],
   "source": [
    "import pandas as pd #basic data operations \n",
    "import numpy as np\n",
    "import re #for using regex functions\n",
    "import seaborn as sns\n",
    "import matplotlib.pyplot as plt # for visualization of data\n",
    "from matplotlib import style   # to set style for the plots\n",
    "style.use('ggplot') # ggplot is used here \n",
    "from sklearn.feature_extraction.text import CountVectorizer #to vectorize the text document\n",
    "from sklearn.model_selection import train_test_split #to train the texting data\n",
    "from sklearn.linear_model import LogisticRegression #to perform logistic regression on the data\n",
    "\n",
    "from sklearn.metrics import accuracy_score, classification_report, confusion_matrix, ConfusionMatrixDisplay  #different evaluation model for evaluation\n",
    "from sklearn.naive_bayes import MultinomialNB\n",
    "from sklearn.svm import LinearSVC\n",
    "from sklearn.neighbors import KNeighborsClassifier\n",
    "from sklearn.tree import DecisionTreeClassifier\n",
    "from sklearn.ensemble import RandomForestClassifier\n",
    "\n",
    "\n",
    "import warnings\n",
    "warnings.filterwarnings(\"ignore\")"
   ]
  },
  {
   "cell_type": "code",
   "execution_count": 2,
   "id": "7df571f4",
   "metadata": {},
   "outputs": [],
   "source": [
    "text_df = pd.read_csv('TSA-Preprocessing-dropped.csv')  #to load the data\n",
    "text_df = text_df.sample(n=5000,replace=False)"
   ]
  },
  {
   "cell_type": "code",
   "execution_count": 3,
   "id": "4a4ce8f5",
   "metadata": {},
   "outputs": [
    {
     "data": {
      "text/html": [
       "<div>\n",
       "<style scoped>\n",
       "    .dataframe tbody tr th:only-of-type {\n",
       "        vertical-align: middle;\n",
       "    }\n",
       "\n",
       "    .dataframe tbody tr th {\n",
       "        vertical-align: top;\n",
       "    }\n",
       "\n",
       "    .dataframe thead th {\n",
       "        text-align: right;\n",
       "    }\n",
       "</style>\n",
       "<table border=\"1\" class=\"dataframe\">\n",
       "  <thead>\n",
       "    <tr style=\"text-align: right;\">\n",
       "      <th></th>\n",
       "      <th>text</th>\n",
       "      <th>polarity</th>\n",
       "      <th>sentiment</th>\n",
       "    </tr>\n",
       "  </thead>\n",
       "  <tbody>\n",
       "    <tr>\n",
       "      <th>87197</th>\n",
       "      <td>dear arjun kumar patidar successfully vaccinat...</td>\n",
       "      <td>0.75</td>\n",
       "      <td>Positive</td>\n",
       "    </tr>\n",
       "    <tr>\n",
       "      <th>178675</th>\n",
       "      <td>ani covaxin approval come covaxin covidvaccine...</td>\n",
       "      <td>0.00</td>\n",
       "      <td>Neutral</td>\n",
       "    </tr>\n",
       "    <tr>\n",
       "      <th>50601</th>\n",
       "      <td>get shots covid19 vaccinessavelives pfizer mod...</td>\n",
       "      <td>0.00</td>\n",
       "      <td>Neutral</td>\n",
       "    </tr>\n",
       "    <tr>\n",
       "      <th>81224</th>\n",
       "      <td>rasikatm mybmc seruminstindia pfizer vikramcha...</td>\n",
       "      <td>0.35</td>\n",
       "      <td>Positive</td>\n",
       "    </tr>\n",
       "    <tr>\n",
       "      <th>124406</th>\n",
       "      <td>chennai சனன vaccine sputnikv 1st dose pincode ...</td>\n",
       "      <td>-0.10</td>\n",
       "      <td>Negative</td>\n",
       "    </tr>\n",
       "  </tbody>\n",
       "</table>\n",
       "</div>"
      ],
      "text/plain": [
       "                                                     text  polarity sentiment\n",
       "87197   dear arjun kumar patidar successfully vaccinat...      0.75  Positive\n",
       "178675  ani covaxin approval come covaxin covidvaccine...      0.00   Neutral\n",
       "50601   get shots covid19 vaccinessavelives pfizer mod...      0.00   Neutral\n",
       "81224   rasikatm mybmc seruminstindia pfizer vikramcha...      0.35  Positive\n",
       "124406  chennai சனன vaccine sputnikv 1st dose pincode ...     -0.10  Negative"
      ]
     },
     "execution_count": 3,
     "metadata": {},
     "output_type": "execute_result"
    }
   ],
   "source": [
    "text_df.head() "
   ]
  },
  {
   "cell_type": "code",
   "execution_count": 4,
   "id": "3477b0eb",
   "metadata": {},
   "outputs": [
    {
     "data": {
      "text/html": [
       "<div>\n",
       "<style scoped>\n",
       "    .dataframe tbody tr th:only-of-type {\n",
       "        vertical-align: middle;\n",
       "    }\n",
       "\n",
       "    .dataframe tbody tr th {\n",
       "        vertical-align: top;\n",
       "    }\n",
       "\n",
       "    .dataframe thead th {\n",
       "        text-align: right;\n",
       "    }\n",
       "</style>\n",
       "<table border=\"1\" class=\"dataframe\">\n",
       "  <thead>\n",
       "    <tr style=\"text-align: right;\">\n",
       "      <th></th>\n",
       "      <th>text</th>\n",
       "      <th>polarity</th>\n",
       "      <th>sentiment</th>\n",
       "    </tr>\n",
       "  </thead>\n",
       "  <tbody>\n",
       "    <tr>\n",
       "      <th>87197</th>\n",
       "      <td>dear arjun kumar patidar successfully vaccinat...</td>\n",
       "      <td>0.75</td>\n",
       "      <td>Positive</td>\n",
       "    </tr>\n",
       "    <tr>\n",
       "      <th>178675</th>\n",
       "      <td>ani covaxin approval come covaxin covidvaccine...</td>\n",
       "      <td>0.00</td>\n",
       "      <td>Neutral</td>\n",
       "    </tr>\n",
       "    <tr>\n",
       "      <th>50601</th>\n",
       "      <td>get shots covid19 vaccinessavelives pfizer mod...</td>\n",
       "      <td>0.00</td>\n",
       "      <td>Neutral</td>\n",
       "    </tr>\n",
       "    <tr>\n",
       "      <th>81224</th>\n",
       "      <td>rasikatm mybmc seruminstindia pfizer vikramcha...</td>\n",
       "      <td>0.35</td>\n",
       "      <td>Positive</td>\n",
       "    </tr>\n",
       "    <tr>\n",
       "      <th>124406</th>\n",
       "      <td>chennai சனன vaccine sputnikv 1st dose pincode ...</td>\n",
       "      <td>-0.10</td>\n",
       "      <td>Negative</td>\n",
       "    </tr>\n",
       "    <tr>\n",
       "      <th>...</th>\n",
       "      <td>...</td>\n",
       "      <td>...</td>\n",
       "      <td>...</td>\n",
       "    </tr>\n",
       "    <tr>\n",
       "      <th>102938</th>\n",
       "      <td>deliveries vaccine among several brands corona...</td>\n",
       "      <td>0.00</td>\n",
       "      <td>Neutral</td>\n",
       "    </tr>\n",
       "    <tr>\n",
       "      <th>103775</th>\n",
       "      <td>looking like cuba may created 3rd effective va...</td>\n",
       "      <td>0.30</td>\n",
       "      <td>Positive</td>\n",
       "    </tr>\n",
       "    <tr>\n",
       "      <th>68696</th>\n",
       "      <td>today hurt whole body aches feels like got hit...</td>\n",
       "      <td>0.35</td>\n",
       "      <td>Positive</td>\n",
       "    </tr>\n",
       "    <tr>\n",
       "      <th>133240</th>\n",
       "      <td>560011 age 18 67d1 3d2 slots covaxin 24072021 ...</td>\n",
       "      <td>0.00</td>\n",
       "      <td>Neutral</td>\n",
       "    </tr>\n",
       "    <tr>\n",
       "      <th>77928</th>\n",
       "      <td>sinovac preferred covid19 vaccine filipinos es...</td>\n",
       "      <td>0.00</td>\n",
       "      <td>Neutral</td>\n",
       "    </tr>\n",
       "  </tbody>\n",
       "</table>\n",
       "<p>5000 rows × 3 columns</p>\n",
       "</div>"
      ],
      "text/plain": [
       "                                                     text  polarity sentiment\n",
       "87197   dear arjun kumar patidar successfully vaccinat...      0.75  Positive\n",
       "178675  ani covaxin approval come covaxin covidvaccine...      0.00   Neutral\n",
       "50601   get shots covid19 vaccinessavelives pfizer mod...      0.00   Neutral\n",
       "81224   rasikatm mybmc seruminstindia pfizer vikramcha...      0.35  Positive\n",
       "124406  chennai சனன vaccine sputnikv 1st dose pincode ...     -0.10  Negative\n",
       "...                                                   ...       ...       ...\n",
       "102938  deliveries vaccine among several brands corona...      0.00   Neutral\n",
       "103775  looking like cuba may created 3rd effective va...      0.30  Positive\n",
       "68696   today hurt whole body aches feels like got hit...      0.35  Positive\n",
       "133240  560011 age 18 67d1 3d2 slots covaxin 24072021 ...      0.00   Neutral\n",
       "77928   sinovac preferred covid19 vaccine filipinos es...      0.00   Neutral\n",
       "\n",
       "[5000 rows x 3 columns]"
      ]
     },
     "execution_count": 4,
     "metadata": {},
     "output_type": "execute_result"
    }
   ],
   "source": [
    "text_df"
   ]
  },
  {
   "cell_type": "markdown",
   "id": "c38fad39",
   "metadata": {},
   "source": [
    "### Count-Vectorization \n"
   ]
  },
  {
   "cell_type": "code",
   "execution_count": 8,
   "id": "e76a7555",
   "metadata": {},
   "outputs": [],
   "source": [
    "X = text_df['text']\n",
    "Y = text_df['sentiment']\n",
    "vect = CountVectorizer()\n",
    "\n",
    "vect.fit(X)  # Fit the vectorizer to the data\n",
    "X = vect.transform(X)\n",
    "# X_transformed = vect.transform(X) \n",
    "f_names = list(vect.vocabulary_.keys())\n",
    "cv_val = X.toarray()\n",
    "cv_df = pd.DataFrame(cv_val,columns = f_names)"
   ]
  },
  {
   "cell_type": "markdown",
   "id": "a3f7c4a3",
   "metadata": {},
   "source": [
    "### Splitting of Training and Testing Data\n"
   ]
  },
  {
   "cell_type": "code",
   "execution_count": 10,
   "id": "bb2f1ee3",
   "metadata": {},
   "outputs": [],
   "source": [
    "x_train, x_test, y_train, y_test = train_test_split(cv_df, Y, test_size=0.2, random_state=42)"
   ]
  },
  {
   "cell_type": "code",
   "execution_count": 11,
   "id": "7c1d81f7",
   "metadata": {},
   "outputs": [
    {
     "name": "stdout",
     "output_type": "stream",
     "text": [
      "Size of x_train: (4000, 11732)\n",
      "Size of y_train: (4000,)\n",
      "Size of x_test: (1000, 11732)\n",
      "Size of y_test: (1000,)\n"
     ]
    }
   ],
   "source": [
    "print(\"Size of x_train:\", (x_train.shape))\n",
    "print(\"Size of y_train:\", (y_train.shape))\n",
    "print(\"Size of x_test:\", (x_test.shape))\n",
    "print(\"Size of y_test:\", (y_test.shape))"
   ]
  },
  {
   "cell_type": "code",
   "execution_count": 29,
   "id": "d8530945",
   "metadata": {},
   "outputs": [],
   "source": [
    "cv_df.to_csv(\"5kDataset-trained.csv\",index = False)"
   ]
  },
  {
   "cell_type": "markdown",
   "id": "682c6ec5",
   "metadata": {},
   "source": [
    "# Applying Models"
   ]
  },
  {
   "cell_type": "markdown",
   "id": "3a5a8ab7",
   "metadata": {},
   "source": [
    "# Logistic Regression"
   ]
  },
  {
   "cell_type": "code",
   "execution_count": 13,
   "id": "7b65b2aa",
   "metadata": {},
   "outputs": [
    {
     "name": "stdout",
     "output_type": "stream",
     "text": [
      "Test accuracy: 84.10%\n"
     ]
    }
   ],
   "source": [
    "logreg = LogisticRegression()\n",
    "logreg_model = logreg.fit(x_train, y_train)\n",
    "logreg_pred = logreg_model.predict(x_test)\n",
    "logreg_acc = accuracy_score(logreg_pred, y_test)\n",
    "print(\"Test accuracy: {:.2f}%\".format(logreg_acc*100))"
   ]
  },
  {
   "cell_type": "code",
   "execution_count": 14,
   "id": "3e40e8f6",
   "metadata": {
    "scrolled": true
   },
   "outputs": [
    {
     "name": "stdout",
     "output_type": "stream",
     "text": [
      "[[ 43  53  16]\n",
      " [  3 548   8]\n",
      " [  3  76 250]]\n",
      "\n",
      "\n",
      "              precision    recall  f1-score   support\n",
      "\n",
      "    Negative       0.88      0.38      0.53       112\n",
      "     Neutral       0.81      0.98      0.89       559\n",
      "    Positive       0.91      0.76      0.83       329\n",
      "\n",
      "    accuracy                           0.84      1000\n",
      "   macro avg       0.87      0.71      0.75      1000\n",
      "weighted avg       0.85      0.84      0.83      1000\n",
      "\n"
     ]
    }
   ],
   "source": [
    "print(confusion_matrix(y_test, logreg_pred))\n",
    "print(\"\\n\")\n",
    "print(classification_report(y_test, logreg_pred))"
   ]
  },
  {
   "cell_type": "code",
   "execution_count": 15,
   "id": "52c7a9b9",
   "metadata": {
    "scrolled": false
   },
   "outputs": [
    {
     "data": {
      "text/plain": [
       "<sklearn.metrics._plot.confusion_matrix.ConfusionMatrixDisplay at 0x1dffdd97550>"
      ]
     },
     "execution_count": 15,
     "metadata": {},
     "output_type": "execute_result"
    },
    {
     "data": {
      "image/png": "[encoded data removed]",
      "text/plain": [
       "<Figure size 640x480 with 2 Axes>"
      ]
     },
     "metadata": {},
     "output_type": "display_data"
    }
   ],
   "source": [
    "style.use('classic')\n",
    "cm = confusion_matrix(y_test, logreg_pred, labels=logreg.classes_)\n",
    "disp = ConfusionMatrixDisplay(confusion_matrix = cm, display_labels=logreg.classes_)\n",
    "disp.plot()"
   ]
  },
  {
   "cell_type": "markdown",
   "id": "adb06c16",
   "metadata": {},
   "source": [
    "# Naive Bayes"
   ]
  },
  {
   "cell_type": "code",
   "execution_count": 16,
   "id": "4431351d",
   "metadata": {},
   "outputs": [
    {
     "name": "stdout",
     "output_type": "stream",
     "text": [
      "Test Accuracy:  69.7 \b%\n",
      "\n",
      "\n",
      "[[ 40  25  47]\n",
      " [ 37 365 157]\n",
      " [ 14  23 292]]\n",
      "\n",
      "\n",
      "Classification Report:\n",
      "\n",
      "               precision    recall  f1-score   support\n",
      "\n",
      "    Negative       0.44      0.36      0.39       112\n",
      "     Neutral       0.88      0.65      0.75       559\n",
      "    Positive       0.59      0.89      0.71       329\n",
      "\n",
      "    accuracy                           0.70      1000\n",
      "   macro avg       0.64      0.63      0.62      1000\n",
      "weighted avg       0.74      0.70      0.70      1000\n",
      "\n"
     ]
    }
   ],
   "source": [
    "nb = MultinomialNB(alpha=1.0,fit_prior=True,class_prior=None)\n",
    "\n",
    "nb_model = nb.fit(x_train, y_train)\n",
    "\n",
    "nb_pred = nb_model.predict(x_test)\n",
    "\n",
    "print(\"Test Accuracy: \", round(accuracy_score(y_test, nb_pred)*100,2), \"\\b%\")\n",
    "print(\"\\n\")\n",
    "print(confusion_matrix(y_test, nb_pred))\n",
    "print(\"\\n\")\n",
    "print(\"Classification Report:\\n\\n\", classification_report(y_test, nb_pred))"
   ]
  },
  {
   "cell_type": "code",
   "execution_count": 17,
   "id": "d392c7ce",
   "metadata": {},
   "outputs": [
    {
     "data": {
      "text/plain": [
       "<sklearn.metrics._plot.confusion_matrix.ConfusionMatrixDisplay at 0x1df86a6a8b0>"
      ]
     },
     "execution_count": 17,
     "metadata": {},
     "output_type": "execute_result"
    },
    {
     "data": {
      "image/png": "[encoded data removed]",
      "text/plain": [
       "<Figure size 640x480 with 2 Axes>"
      ]
     },
     "metadata": {},
     "output_type": "display_data"
    }
   ],
   "source": [
    "style.use('classic')\n",
    "cm = confusion_matrix(y_test, nb_pred, labels=nb.classes_)\n",
    "disp = ConfusionMatrixDisplay(confusion_matrix = cm, display_labels=nb.classes_)\n",
    "disp.plot()"
   ]
  },
  {
   "cell_type": "markdown",
   "id": "2bbacae5",
   "metadata": {},
   "source": [
    "# SVM"
   ]
  },
  {
   "cell_type": "code",
   "execution_count": 18,
   "id": "310da597",
   "metadata": {},
   "outputs": [
    {
     "name": "stdout",
     "output_type": "stream",
     "text": [
      "Test Accuracy: 85.5 \b%\n",
      "\n",
      "\n",
      "[[ 55  43  14]\n",
      " [  7 538  14]\n",
      " [  6  61 262]]\n",
      "\n",
      "\n",
      "Classification Report:\n",
      "\n",
      "               precision    recall  f1-score   support\n",
      "\n",
      "    Negative       0.81      0.49      0.61       112\n",
      "     Neutral       0.84      0.96      0.90       559\n",
      "    Positive       0.90      0.80      0.85       329\n",
      "\n",
      "    accuracy                           0.85      1000\n",
      "   macro avg       0.85      0.75      0.78      1000\n",
      "weighted avg       0.86      0.85      0.85      1000\n",
      "\n"
     ]
    }
   ],
   "source": [
    "# Train an SVM classifier on the training set\n",
    "clf = LinearSVC()\n",
    "sv_model = clf.fit(x_train, y_train)\n",
    "\n",
    "# Evaluate the model's performance on the testing set\n",
    "sv_pred = sv_model.predict(x_test)\n",
    "print(\"Test Accuracy:\", round(accuracy_score(y_test, sv_pred)*100,2), \"\\b%\")\n",
    "print(\"\\n\")\n",
    "print(confusion_matrix(y_test, sv_pred))\n",
    "print(\"\\n\")\n",
    "print(\"Classification Report:\\n\\n\", classification_report(y_test, sv_pred))"
   ]
  },
  {
   "cell_type": "code",
   "execution_count": 19,
   "id": "843a5cd2",
   "metadata": {},
   "outputs": [
    {
     "data": {
      "text/plain": [
       "<sklearn.metrics._plot.confusion_matrix.ConfusionMatrixDisplay at 0x1df88ff9b80>"
      ]
     },
     "execution_count": 19,
     "metadata": {},
     "output_type": "execute_result"
    },
    {
     "data": {
      "image/png": "[encoded data removed]",
      "text/plain": [
       "<Figure size 640x480 with 2 Axes>"
      ]
     },
     "metadata": {},
     "output_type": "display_data"
    }
   ],
   "source": [
    "style.use('classic')\n",
    "cm = confusion_matrix(y_test, sv_pred, labels=clf.classes_)\n",
    "disp = ConfusionMatrixDisplay(confusion_matrix = cm, display_labels=clf.classes_)\n",
    "disp.plot()"
   ]
  },
  {
   "cell_type": "markdown",
   "id": "c16fa2a1",
   "metadata": {},
   "source": [
    "# KNN"
   ]
  },
  {
   "cell_type": "code",
   "execution_count": 20,
   "id": "64c7c05c",
   "metadata": {},
   "outputs": [
    {
     "name": "stdout",
     "output_type": "stream",
     "text": [
      "Test Accuracy:  64.3 \b%\n",
      "\n",
      "\n",
      "[[ 11  96   5]\n",
      " [  2 545  12]\n",
      " [  0 242  87]]\n",
      "\n",
      "\n",
      "Classification Report:\n",
      "\n",
      "               precision    recall  f1-score   support\n",
      "\n",
      "    Negative       0.85      0.10      0.18       112\n",
      "     Neutral       0.62      0.97      0.76       559\n",
      "    Positive       0.84      0.26      0.40       329\n",
      "\n",
      "    accuracy                           0.64      1000\n",
      "   macro avg       0.77      0.45      0.44      1000\n",
      "weighted avg       0.72      0.64      0.57      1000\n",
      "\n"
     ]
    }
   ],
   "source": [
    "kn = KNeighborsClassifier(n_neighbors=3)\n",
    "\n",
    "kn_model = kn.fit(x_train, y_train)\n",
    "\n",
    "kn_pred = kn_model.predict(x_test)\n",
    "\n",
    "print(\"Test Accuracy: \", round(accuracy_score(y_test, kn_pred)*100,2), \"\\b%\")\n",
    "print(\"\\n\")\n",
    "print(confusion_matrix(y_test, kn_pred))\n",
    "print(\"\\n\")\n",
    "print(\"Classification Report:\\n\\n\", classification_report(y_test, kn_pred,))"
   ]
  },
  {
   "cell_type": "code",
   "execution_count": 21,
   "id": "d6e42159",
   "metadata": {},
   "outputs": [
    {
     "data": {
      "text/plain": [
       "<sklearn.metrics._plot.confusion_matrix.ConfusionMatrixDisplay at 0x1df89001d90>"
      ]
     },
     "execution_count": 21,
     "metadata": {},
     "output_type": "execute_result"
    },
    {
     "data": {
      "image/png": "[encoded data removed]",
      "text/plain": [
       "<Figure size 640x480 with 2 Axes>"
      ]
     },
     "metadata": {},
     "output_type": "display_data"
    }
   ],
   "source": [
    "style.use('classic')\n",
    "cm = confusion_matrix(y_test, kn_pred, labels=kn.classes_)\n",
    "disp = ConfusionMatrixDisplay(confusion_matrix = cm, display_labels=kn.classes_)\n",
    "disp.plot()"
   ]
  },
  {
   "cell_type": "markdown",
   "id": "7bfd9080",
   "metadata": {},
   "source": [
    "# Decision Tree"
   ]
  },
  {
   "cell_type": "code",
   "execution_count": 22,
   "id": "0da50d41",
   "metadata": {},
   "outputs": [
    {
     "name": "stdout",
     "output_type": "stream",
     "text": [
      "Test Accuracy:  89.3 \b%\n",
      "\n",
      "\n",
      "[[ 58  36  18]\n",
      " [  6 544   9]\n",
      " [  4  34 291]]\n",
      "\n",
      "\n",
      "Classification Report:\n",
      "\n",
      "               precision    recall  f1-score   support\n",
      "\n",
      "    Negative       0.85      0.52      0.64       112\n",
      "     Neutral       0.89      0.97      0.93       559\n",
      "    Positive       0.92      0.88      0.90       329\n",
      "\n",
      "    accuracy                           0.89      1000\n",
      "   macro avg       0.88      0.79      0.82      1000\n",
      "weighted avg       0.89      0.89      0.89      1000\n",
      "\n"
     ]
    }
   ],
   "source": [
    "dtc = DecisionTreeClassifier(criterion= 'entropy',max_depth = 1000, splitter='best', random_state=100)\n",
    "dtc_model = dtc.fit(x_train, y_train)\n",
    "\n",
    "dtc_pred = dtc_model.predict(x_test)\n",
    "\n",
    "print(\"Test Accuracy: \", round(accuracy_score(y_test, dtc_pred)*100,2), \"\\b%\")\n",
    "print(\"\\n\")\n",
    "print(confusion_matrix(y_test, dtc_pred))\n",
    "print(\"\\n\")\n",
    "print(\"Classification Report:\\n\\n\", classification_report(y_test, dtc_pred))"
   ]
  },
  {
   "cell_type": "code",
   "execution_count": 23,
   "id": "fb96f105",
   "metadata": {},
   "outputs": [
    {
     "data": {
      "text/plain": [
       "<sklearn.metrics._plot.confusion_matrix.ConfusionMatrixDisplay at 0x1df897308b0>"
      ]
     },
     "execution_count": 23,
     "metadata": {},
     "output_type": "execute_result"
    },
    {
     "data": {
      "image/png": "[encoded data removed]",
      "text/plain": [
       "<Figure size 640x480 with 2 Axes>"
      ]
     },
     "metadata": {},
     "output_type": "display_data"
    }
   ],
   "source": [
    "style.use('classic')\n",
    "cm = confusion_matrix(y_test, dtc_pred, labels=dtc.classes_)\n",
    "disp = ConfusionMatrixDisplay(confusion_matrix = cm, display_labels=dtc.classes_)\n",
    "disp.plot()"
   ]
  },
  {
   "cell_type": "markdown",
   "id": "cbdc7cef",
   "metadata": {},
   "source": [
    "# Random Forest"
   ]
  },
  {
   "cell_type": "code",
   "execution_count": 24,
   "id": "1a82e269",
   "metadata": {},
   "outputs": [],
   "source": [
    "rf = RandomForestClassifier(max_depth = 2000, random_state=42,n_estimators=100,criterion=\"entropy\")\n",
    "\n",
    "# Train the model on the training set\n",
    "rf_model = rf.fit(x_train, y_train)"
   ]
  },
  {
   "cell_type": "code",
   "execution_count": 25,
   "id": "404d268c",
   "metadata": {},
   "outputs": [
    {
     "name": "stdout",
     "output_type": "stream",
     "text": [
      "Test accuracy: 86.4 \b%\n",
      "\n",
      "\n",
      "[[ 44  53  15]\n",
      " [  0 558   1]\n",
      " [  2  65 262]]\n",
      "\n",
      "\n",
      "Classification Report:\n",
      "\n",
      "               precision    recall  f1-score   support\n",
      "\n",
      "    Negative       0.96      0.39      0.56       112\n",
      "     Neutral       0.83      1.00      0.90       559\n",
      "    Positive       0.94      0.80      0.86       329\n",
      "\n",
      "    accuracy                           0.86      1000\n",
      "   macro avg       0.91      0.73      0.77      1000\n",
      "weighted avg       0.88      0.86      0.85      1000\n",
      "\n"
     ]
    }
   ],
   "source": [
    "# Make predictions on the test set\n",
    "rf_pred = rf.predict(x_test)\n",
    "\n",
    "print(\"Test accuracy:\", round(accuracy_score(y_test, rf_pred)*100,2), \"\\b%\")\n",
    "print(\"\\n\")\n",
    "print(confusion_matrix(y_test, rf_pred))\n",
    "print(\"\\n\")\n",
    "print(\"Classification Report:\\n\\n\", classification_report(y_test, rf_pred))"
   ]
  },
  {
   "cell_type": "code",
   "execution_count": 26,
   "id": "9c505268",
   "metadata": {
    "scrolled": true
   },
   "outputs": [
    {
     "data": {
      "text/plain": [
       "<sklearn.metrics._plot.confusion_matrix.ConfusionMatrixDisplay at 0x1df86d348b0>"
      ]
     },
     "execution_count": 26,
     "metadata": {},
     "output_type": "execute_result"
    },
    {
     "data": {
      "image/png": "[encoded data removed]",
      "text/plain": [
       "<Figure size 640x480 with 2 Axes>"
      ]
     },
     "metadata": {},
     "output_type": "display_data"
    }
   ],
   "source": [
    "style.use('classic')\n",
    "cm = confusion_matrix(y_test, rf_pred, labels=rf.classes_)\n",
    "disp = ConfusionMatrixDisplay(confusion_matrix = cm, display_labels=rf.classes_)\n",
    "disp.plot()"
   ]
  },
  {
   "cell_type": "markdown",
   "id": "7663ec2b",
   "metadata": {},
   "source": [
    "#  Store the model names and their accuracy in a dataframe"
   ]
  },
  {
   "cell_type": "code",
   "execution_count": 27,
   "id": "97bea330",
   "metadata": {},
   "outputs": [
    {
     "data": {
      "text/html": [
       "<div>\n",
       "<style scoped>\n",
       "    .dataframe tbody tr th:only-of-type {\n",
       "        vertical-align: middle;\n",
       "    }\n",
       "\n",
       "    .dataframe tbody tr th {\n",
       "        vertical-align: top;\n",
       "    }\n",
       "\n",
       "    .dataframe thead th {\n",
       "        text-align: right;\n",
       "    }\n",
       "</style>\n",
       "<table border=\"1\" class=\"dataframe\">\n",
       "  <thead>\n",
       "    <tr style=\"text-align: right;\">\n",
       "      <th></th>\n",
       "      <th>models</th>\n",
       "      <th>accuracy</th>\n",
       "    </tr>\n",
       "  </thead>\n",
       "  <tbody>\n",
       "    <tr>\n",
       "      <th>0</th>\n",
       "      <td>Decision Tree</td>\n",
       "      <td>89.3</td>\n",
       "    </tr>\n",
       "    <tr>\n",
       "      <th>1</th>\n",
       "      <td>Random Forest</td>\n",
       "      <td>86.4</td>\n",
       "    </tr>\n",
       "    <tr>\n",
       "      <th>2</th>\n",
       "      <td>SVM</td>\n",
       "      <td>85.5</td>\n",
       "    </tr>\n",
       "    <tr>\n",
       "      <th>3</th>\n",
       "      <td>Logistic Regression</td>\n",
       "      <td>84.1</td>\n",
       "    </tr>\n",
       "    <tr>\n",
       "      <th>4</th>\n",
       "      <td>Naive Bayes</td>\n",
       "      <td>69.7</td>\n",
       "    </tr>\n",
       "    <tr>\n",
       "      <th>5</th>\n",
       "      <td>KNN</td>\n",
       "      <td>64.3</td>\n",
       "    </tr>\n",
       "  </tbody>\n",
       "</table>\n",
       "</div>"
      ],
      "text/plain": [
       "                models  accuracy\n",
       "0        Decision Tree      89.3\n",
       "1        Random Forest      86.4\n",
       "2                  SVM      85.5\n",
       "3  Logistic Regression      84.1\n",
       "4          Naive Bayes      69.7\n",
       "5                  KNN      64.3"
      ]
     },
     "execution_count": 27,
     "metadata": {},
     "output_type": "execute_result"
    }
   ],
   "source": [
    "res = []\n",
    "res = pd.DataFrame(res)\n",
    "res[\"models\"] = [\"Logistic Regression\", \"Naive Bayes\",\"SVM\",  \"KNN\", \"Decision Tree\", \"Random Forest\"]\n",
    "res[\"accuracy\"] = [ round(accuracy_score(y_test, logreg_pred)*100,2),round(accuracy_score(y_test, nb_pred)*100,2),round(accuracy_score(y_test, sv_pred)*100,2), round(accuracy_score(y_test, kn_pred)*100,2), round(accuracy_score(y_test, dtc_pred)*100,2), round(accuracy_score(y_test, rf_pred)*100,2)]\n",
    "res = res.sort_values(\"accuracy\", ascending=False).reset_index(drop=True)\n",
    "res.to_csv('model_results_150k.csv', index=False)\n",
    "res"
   ]
  },
  {
   "cell_type": "markdown",
   "id": "6495964b",
   "metadata": {},
   "source": [
    "#  Save the traied models locally"
   ]
  },
  {
   "cell_type": "code",
   "execution_count": 28,
   "id": "3c0f7e7d",
   "metadata": {},
   "outputs": [
    {
     "data": {
      "text/plain": [
       "['Trained Models_5k/rf_model.pkl']"
      ]
     },
     "execution_count": 28,
     "metadata": {},
     "output_type": "execute_result"
    }
   ],
   "source": [
    "import joblib\n",
    "\n",
    "joblib.dump(logreg_model, 'Trained Models_5k/logregr_model.pkl')\n",
    "joblib.dump(nb_model, 'Trained Models_5k/nb_model.pkl')\n",
    "joblib.dump(sv_model, 'Trained Models_5k/svm_model.pkl')\n",
    "joblib.dump(kn_model, 'Trained Models_5k/kn_model.pkl')\n",
    "joblib.dump(dtc_model, 'Trained Models_5k/dtc_model.pkl')\n",
    "joblib.dump(rf_model, 'Trained Models_5k/rf_model.pkl')"
   ]
  }
 ],
 "metadata": {
  "kernelspec": {
   "display_name": "Python 3 (ipykernel)",
   "language": "python",
   "name": "python3"
  },
  "language_info": {
   "codemirror_mode": {
    "name": "ipython",
    "version": 3
   },
   "file_extension": ".py",
   "mimetype": "text/x-python",
   "name": "python",
   "nbconvert_exporter": "python",
   "pygments_lexer": "ipython3",
   "version": "3.9.7"
  }
 },
 "nbformat": 4,
 "nbformat_minor": 5
}
